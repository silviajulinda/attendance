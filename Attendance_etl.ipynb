{
  "nbformat": 4,
  "nbformat_minor": 0,
  "metadata": {
    "colab": {
      "name": "Attendance_etl.ipynb",
      "provenance": []
    },
    "kernelspec": {
      "name": "python3",
      "display_name": "Python 3"
    },
    "language_info": {
      "name": "python"
    }
  },
  "cells": [
    {
      "cell_type": "code",
      "execution_count": 93,
      "metadata": {
        "colab": {
          "resources": {
            "http://localhost:8080/nbextensions/google.colab/files.js": {
              "data": "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",
              "ok": true,
              "headers": [
                [
                  "content-type",
                  "application/javascript"
                ]
              ],
              "status": 200,
              "status_text": ""
            }
          },
          "base_uri": "https://localhost:8080/",
          "height": 212
        },
        "id": "GLMemDjL6nq4",
        "outputId": "72c2e2ce-b955-4987-a883-47e2b61a6887"
      },
      "outputs": [
        {
          "output_type": "display_data",
          "data": {
            "text/plain": [
              "<IPython.core.display.HTML object>"
            ],
            "text/html": [
              "\n",
              "     <input type=\"file\" id=\"files-3cd7e859-48d6-4f40-9911-26d68cffd52e\" name=\"files[]\" multiple disabled\n",
              "        style=\"border:none\" />\n",
              "     <output id=\"result-3cd7e859-48d6-4f40-9911-26d68cffd52e\">\n",
              "      Upload widget is only available when the cell has been executed in the\n",
              "      current browser session. Please rerun this cell to enable.\n",
              "      </output>\n",
              "      <script src=\"/nbextensions/google.colab/files.js\"></script> "
            ]
          },
          "metadata": {}
        },
        {
          "output_type": "stream",
          "name": "stdout",
          "text": [
            "Saving Academic_calendar.csv to Academic_calendar (2).csv\n",
            "Saving course.csv to course (2).csv\n",
            "Saving course_attendance.csv to course_attendance (2).csv\n",
            "Saving enrollment.csv to enrollment (2).csv\n",
            "Saving schedule.csv to schedule (2).csv\n"
          ]
        }
      ],
      "source": [
        "from google.colab import files\n",
        "uploaded = files.upload()\n",
        "\n",
        "import pandas as pd\n",
        "from datetime import datetime\n",
        "import sqlite3\n",
        "import glob\n",
        "import os\n",
        "import os.path\n",
        "from datetime import date"
      ]
    },
    {
      "cell_type": "code",
      "source": [
        "#directory for data layers / schema\n",
        "cwd = os.getcwd()\n",
        "pathStaging = cwd + '/result/staging_data/'\n",
        "pathStagingCourse = cwd + '/result/staging_data/course/'\n",
        "pathStagingCalendar = cwd + '/result/staging_data/Academic_calendar/'\n",
        "pathStagingAttendance = cwd + '/result/staging_data/course_attendance/'\n",
        "pathStagingEnrollment = cwd + '/result/staging_data/enrollment/'\n",
        "pathStagingSchedule = cwd + '/result/staging_data/schedule/'\n",
        "pathDwh = cwd + '/result/dwh_data/'\n",
        "pathDatamart = cwd + '/result/datamart/'"
      ],
      "metadata": {
        "id": "KDFrXJMX6osZ"
      },
      "execution_count": 95,
      "outputs": []
    },
    {
      "cell_type": "code",
      "source": [
        "#table names\n",
        "course = 'course'\n",
        "academic_calendar = 'Academic_calendar'\n",
        "course_attendance = 'course_attendance'\n",
        "enrollment = 'enrollment'\n",
        "schedule = 'schedule'\n",
        "\n",
        "#datawarehouse data model\n",
        "dwh_courseDim = pathDwh + 'courseDim.csv'\n",
        "dwh_calendarDim = pathDwh + 'calendarDim.csv'\n",
        "dwh_attendanceFact = pathDwh + 'attendanceFact.csv'\n",
        "dwh_enrollmentFact = pathDwh + 'enrollmentFact.csv'\n",
        "dwh_scheduleDim = pathDwh + 'scheduleDim.csv'\n"
      ],
      "metadata": {
        "id": "n0pcjsYd6q10"
      },
      "execution_count": 96,
      "outputs": []
    },
    {
      "cell_type": "code",
      "source": [
        "#Function to create directory\n",
        "def create_dir (path):\n",
        "  isExist = os.path.exists(path)\n",
        "  if not isExist:\n",
        "    print('create directory: ' + path)\n",
        "    os.makedirs(path, exist_ok=False)\n"
      ],
      "metadata": {
        "id": "eGHO_65z6zPo"
      },
      "execution_count": 97,
      "outputs": []
    },
    {
      "cell_type": "code",
      "source": [
        "#Function to move data from source to staging data layer\n",
        "def load_to_staging(table):\n",
        "  cwd = os.getcwd()\n",
        "  filename = cwd + '/' + table + '.csv'\n",
        "  df = pd.read_csv(filename)\n",
        "  print(df.head(3))\n",
        "  today = date.today()\n",
        "  staging_dir = cwd + '/result/staging_data/' + table + '/' + table + '-' + str(today) + '.csv'\n",
        "  print('write to: ' +  staging_dir + '\\n')\n",
        "  df.to_csv( staging_dir, index=False)"
      ],
      "metadata": {
        "id": "Tj8-P4kS7okC"
      },
      "execution_count": 102,
      "outputs": []
    },
    {
      "cell_type": "code",
      "source": [
        "#Function to write to datawarehouse\n",
        "def write_dwh (staging_path, schema, dwh):\n",
        "  #get latest file\n",
        "  list_of_files = glob.glob(staging_path) # * means all if need specific format then *.csv\n",
        "  latest_file = max(list_of_files, key=os.path.getctime)\n",
        "\n",
        "  df = pd.read_csv(latest_file)\n",
        "  print(df.head(3))\n",
        "  df.columns = schema\n",
        "  print('write to: ' +  dwh)\n",
        "  df.to_csv (dwh, index=False)"
      ],
      "metadata": {
        "id": "APrxLB3V9WCP"
      },
      "execution_count": 99,
      "outputs": []
    },
    {
      "cell_type": "code",
      "source": [
        "#Make directory for data layers\n",
        "create_dir(pathStaging)\n",
        "create_dir(pathStagingCourse)\n",
        "create_dir(pathStagingCalendar)\n",
        "create_dir(pathStagingAttendance)\n",
        "create_dir(pathStagingEnrollment)\n",
        "create_dir(pathStagingSchedule)\n",
        "create_dir(pathDwh)\n",
        "create_dir(pathDatamart)"
      ],
      "metadata": {
        "id": "0tCuY3t-9yjN",
        "colab": {
          "base_uri": "https://localhost:8080/"
        },
        "outputId": "10350272-0fb0-4d87-ecb8-3f9e4537d5be"
      },
      "execution_count": 100,
      "outputs": [
        {
          "output_type": "stream",
          "name": "stdout",
          "text": [
            "create directory: /content/result/staging_data/\n",
            "create directory: /content/result/staging_data/course/\n",
            "create directory: /content/result/staging_data/Academic_calendar/\n",
            "create directory: /content/result/staging_data/course_attendance/\n",
            "create directory: /content/result/staging_data/enrollment/\n",
            "create directory: /content/result/staging_data/schedule/\n",
            "create directory: /content/result/dwh_data/\n",
            "create directory: /content/result/datamart/\n"
          ]
        }
      ]
    },
    {
      "cell_type": "code",
      "source": [
        "#move data from source to staging data layer appending the date\n",
        "load_to_staging(course)\n",
        "load_to_staging(academic_calendar)\n",
        "load_to_staging(course_attendance)\n",
        "load_to_staging(enrollment)\n",
        "load_to_staging(schedule)"
      ],
      "metadata": {
        "colab": {
          "base_uri": "https://localhost:8080/"
        },
        "id": "zYSg6nan91Ke",
        "outputId": "3fb33835-9f09-4522-8d05-6d2736ef3b44"
      },
      "execution_count": 103,
      "outputs": [
        {
          "output_type": "stream",
          "name": "stdout",
          "text": [
            "   ID                                      NAME\n",
            "0   1  Introduction to Applied Machine Learning\n",
            "1   2               Natural Language Processing\n",
            "2   3                               Data Mining\n",
            "write to: /content/result/staging_data/course/course-2022-04-17.csv\n",
            "\n",
            "  Academic_yearS  Sem_id  Week_ID Week_start_dt Week_end_dt\n",
            "0      2019/2020       1        1    09/09/2019  15/09/2019\n",
            "1      2019/2020       1        2    16/09/2019  22/09/2019\n",
            "2      2019/2020       1        3    23/09/2019  29/09/2019\n",
            "write to: /content/result/staging_data/Academic_calendar/Academic_calendar-2022-04-17.csv\n",
            "\n",
            "   ID  STUDENT_ID  SCHEDULE_ID  ATTEND_DT\n",
            "0   1           1            2  10-Sep-19\n",
            "1   2           1            2  11-Sep-19\n",
            "2   3           1            2  17-Sep-19\n",
            "write to: /content/result/staging_data/course_attendance/course_attendance-2022-04-17.csv\n",
            "\n",
            "   ID  STUDENT_ID  SCHEDULE_ID ACADEMIC_YEAR  SEMESTER  ENROLL_DT\n",
            "0   1           1            2     2019/2020         1  17-Aug-19\n",
            "1   2           1            4     2019/2020         1  17-Aug-19\n",
            "2   3           2            1     2019/2020         1  17-Aug-19\n",
            "write to: /content/result/staging_data/enrollment/enrollment-2022-04-17.csv\n",
            "\n",
            "   ID  COURSE_ID  LECTURER_ID   START_DT     END_DT COURSE_DAYS\n",
            "0   1          1           11  09-Sep-19  08-Dec-19       2,4,6\n",
            "1   2          3            4  09-Sep-19  08-Dec-19         3,4\n",
            "2   3          4           13  09-Sep-19  08-Dec-19         2,5\n",
            "write to: /content/result/staging_data/schedule/schedule-2022-04-17.csv\n",
            "\n"
          ]
        }
      ]
    },
    {
      "cell_type": "code",
      "source": [
        "#Transform data and load to dwh\n",
        "\n",
        "#Course Dimension\n",
        "#get latest file\n",
        "list_of_files = glob.glob(pathStagingCourse + '/*') # * means all if need specific format then *.csv\n",
        "latest_file = max(list_of_files, key=os.path.getctime)\n",
        "\n",
        "df = pd.read_csv(latest_file)\n",
        "print(df.head(3))\n",
        "df.columns = ['Course_id', 'Course_name']\n",
        "print('write to: ' +  dwh_courseDim + '\\n')\n",
        "df.to_csv (dwh_courseDim, index=False)\n",
        "\n",
        "#Enrollment Fact\n",
        "#get latest file\n",
        "list_of_files = glob.glob(pathStagingEnrollment + '/*') # * means all if need specific format then *.csv\n",
        "latest_file = max(list_of_files, key=os.path.getctime)\n",
        "\n",
        "df = pd.read_csv(latest_file)\n",
        "print(df.head(3))\n",
        "df.columns = ['Enrollment_id', 'Student_id', 'Schedule_id', 'Academic_year', 'Semester_id', 'Enroll_dt']\n",
        "print('write to: ' +  dwh_enrollmentFact + '\\n')\n",
        "df.to_csv (dwh_enrollmentFact, index=False)\n",
        "\n",
        "#Calendar Dimension\n",
        "list_of_files = glob.glob(pathStagingCalendar + '/*') # * means all if need specific format then *.csv\n",
        "latest_file = max(list_of_files, key=os.path.getctime)\n",
        "df = pd.read_csv(latest_file)\n",
        "\n",
        "df['Week_start_dt']= pd.to_datetime(df['Week_start_dt'], format='%d/%m/%Y')\n",
        "df['Week_end_dt']= pd.to_datetime(df['Week_end_dt'], format='%d/%m/%Y')\n",
        "\n",
        "df.columns = ['Academic_year', 'Semester_id', 'Week_id', 'Week_start_dt', 'Week_end_dt']\n",
        "print(df.head(3))\n",
        "print('write to: ' + dwh_calendarDim + '\\n')\n",
        "df.to_csv (dwh_calendarDim, index=False)\n",
        "\n",
        "#Attendance Fact\n",
        "#Create column Attend_dt_day based on Attend_dt\n",
        "list_of_files = glob.glob(pathStagingAttendance + '/*') # * means all if need specific format then *.csv\n",
        "latest_file = max(list_of_files, key=os.path.getctime)\n",
        "\n",
        "df = pd.read_csv(latest_file)\n",
        "\n",
        "result = []\n",
        "for value in df['ATTEND_DT']:\n",
        "    #Monday:0 Sunday=6\n",
        "    attend_dt_day = datetime.strptime(value, '%d-%b-%y').weekday() \n",
        "    result.append(attend_dt_day + 2)\n",
        "\n",
        "df['COURSE_DAYS'] = result\n",
        "df['ATTEND_DT']= pd.to_datetime(df['ATTEND_DT'], format='%d-%b-%y')\n",
        "\n",
        "df.columns = ['Attendance_id', 'Student_id', 'Schedule_id', 'Attend_dt', 'Course_days']\n",
        "print(df.head(3))\n",
        "print('write to: ' + dwh_attendanceFact + '\\n')\n",
        "df.to_csv (dwh_attendanceFact, index=False)\n",
        "\n",
        "#Schedule Dimension\n",
        "#Explode column Course_days to separate rows\n",
        "list_of_files = glob.glob(pathStagingSchedule + '/*') # * means all if need specific format then *.csv\n",
        "latest_file = max(list_of_files, key=os.path.getctime)\n",
        "\n",
        "df = pd.read_csv(latest_file)\n",
        "\n",
        "df2=df.assign(COURSE_DAYS=df['COURSE_DAYS'].str.split(',')).explode('COURSE_DAYS')\n",
        "df2.columns = ['Schedule_id','Course_id', 'Lecturer_id', 'Start_dt', 'End_dt', 'Course_days']\n",
        "print(df2.head(3))\n",
        "print('write to: ' + dwh_scheduleDim + '\\n')\n",
        "df2.to_csv (dwh_scheduleDim, index=False)\n"
      ],
      "metadata": {
        "colab": {
          "base_uri": "https://localhost:8080/"
        },
        "id": "-vNLRQwxDELg",
        "outputId": "043aa5ed-c5d6-4d76-dda3-34ad79815a8f"
      },
      "execution_count": 104,
      "outputs": [
        {
          "output_type": "stream",
          "name": "stdout",
          "text": [
            "   ID                                      NAME\n",
            "0   1  Introduction to Applied Machine Learning\n",
            "1   2               Natural Language Processing\n",
            "2   3                               Data Mining\n",
            "write to: /content/result/dwh_data/courseDim.csv\n",
            "\n",
            "   ID  STUDENT_ID  SCHEDULE_ID ACADEMIC_YEAR  SEMESTER  ENROLL_DT\n",
            "0   1           1            2     2019/2020         1  17-Aug-19\n",
            "1   2           1            4     2019/2020         1  17-Aug-19\n",
            "2   3           2            1     2019/2020         1  17-Aug-19\n",
            "write to: /content/result/dwh_data/enrollmentFact.csv\n",
            "\n",
            "  Academic_year  Semester_id  Week_id Week_start_dt Week_end_dt\n",
            "0     2019/2020            1        1    2019-09-09  2019-09-15\n",
            "1     2019/2020            1        2    2019-09-16  2019-09-22\n",
            "2     2019/2020            1        3    2019-09-23  2019-09-29\n",
            "write to: /content/result/dwh_data/calendarDim.csv\n",
            "\n",
            "   Attendance_id  Student_id  Schedule_id  Attend_dt  Course_days\n",
            "0              1           1            2 2019-09-10            3\n",
            "1              2           1            2 2019-09-11            4\n",
            "2              3           1            2 2019-09-17            3\n",
            "write to: /content/result/dwh_data/attendanceFact.csv\n",
            "\n",
            "   Schedule_id  Course_id  Lecturer_id   Start_dt     End_dt Course_days\n",
            "0            1          1           11  09-Sep-19  08-Dec-19           2\n",
            "0            1          1           11  09-Sep-19  08-Dec-19           4\n",
            "0            1          1           11  09-Sep-19  08-Dec-19           6\n",
            "write to: /content/result/dwh_data/scheduleDim.csv\n",
            "\n"
          ]
        }
      ]
    },
    {
      "cell_type": "code",
      "source": [
        "#Datamart layer for reporting\n",
        "df_scheduleDim = pd.read_csv(dwh_scheduleDim)\n",
        "df_courseDim = pd.read_csv(dwh_courseDim)\n",
        "df_attendanceFact = pd.read_csv(dwh_attendanceFact)\n",
        "df_enrollmentFact = pd.read_csv(dwh_enrollmentFact)\n",
        "df_calendarDim = pd.read_csv(dwh_calendarDim)\n",
        "\n",
        "result = pd.merge(df_scheduleDim, df_courseDim, on=\"Course_id\")\n",
        "result2 = pd.merge(result, df_attendanceFact, on=[\"Schedule_id\", \"Course_days\"])\n",
        "result3 = pd.merge(result2, df_enrollmentFact, on=[\"Student_id\", \"Schedule_id\"])\n",
        "\n",
        "#Make the db in memory\n",
        "conn = sqlite3.connect(':memory:')\n",
        "#write the tables\n",
        "result3.to_sql('result3', conn, index=False)\n",
        "df_calendarDim.to_sql('calendar', conn, index=False)\n",
        "\n",
        "qry = '''\n",
        "    select  \n",
        "        Schedule_id, Course_id, Course_name, Attendance_id, Student_id, Attend_dt,\n",
        "        calendar.Academic_year, calendar.Semester_id, Week_id, Week_start_dt, Week_end_dt\n",
        "    from\n",
        "        result3 join calendar on\n",
        "        Attend_dt between Week_start_dt and Week_end_dt \n",
        "        and result3.Academic_year = calendar.Academic_year\n",
        "        and result3.Semester_id = calendar.Semester_id\n",
        "    '''\n",
        "\n",
        "attendance_yes = pd.read_sql_query(qry, conn)    \n",
        "\n",
        "result4 = pd.merge(df_enrollmentFact, df_calendarDim, on=[\"Academic_year\", \"Semester_id\"])\n",
        "result5 = pd.merge(result4, df_scheduleDim, on=[\"Schedule_id\"])\n",
        "total_attendance = pd.merge(result5, df_courseDim, on=[\"Course_id\"])\n",
        "\n",
        "final_dataset = pd.merge(total_attendance, attendance_yes[[\"Schedule_id\", \"Student_id\", \"Academic_year\", \"Semester_id\", \"Week_id\", \"Course_id\",\"Attend_dt\"]], how=\"left\", on=[\"Schedule_id\", \"Student_id\", \"Academic_year\", \"Semester_id\", \"Week_id\", \"Course_id\"])\n",
        "print(final_dataset.head(3))\n",
        "print('write to: ' + pathDatamart + 'attendance_datamart.csv')\n",
        "final_dataset.to_csv (pathDatamart + 'attendance_datamart.csv', index=False)\n"
      ],
      "metadata": {
        "colab": {
          "base_uri": "https://localhost:8080/"
        },
        "id": "HtwzJv5DIE2C",
        "outputId": "7e74db8e-35cf-42dd-b1d1-82aa7e37c643"
      },
      "execution_count": 105,
      "outputs": [
        {
          "output_type": "stream",
          "name": "stdout",
          "text": [
            "   Enrollment_id  Student_id  Schedule_id Academic_year  Semester_id  \\\n",
            "0              1           1            2     2019/2020            1   \n",
            "1              1           1            2     2019/2020            1   \n",
            "2              1           1            2     2019/2020            1   \n",
            "\n",
            "   Enroll_dt  Week_id Week_start_dt Week_end_dt  Course_id  Lecturer_id  \\\n",
            "0  17-Aug-19        1    2019-09-09  2019-09-15          3            4   \n",
            "1  17-Aug-19        1    2019-09-09  2019-09-15          3            4   \n",
            "2  17-Aug-19        1    2019-09-09  2019-09-15          3            4   \n",
            "\n",
            "    Start_dt     End_dt  Course_days  Course_name   Attend_dt  \n",
            "0  09-Sep-19  08-Dec-19            3  Data Mining  2019-09-10  \n",
            "1  09-Sep-19  08-Dec-19            3  Data Mining  2019-09-11  \n",
            "2  09-Sep-19  08-Dec-19            4  Data Mining  2019-09-10  \n",
            "write to: /content/result/datamart/attendance_datamart.csv\n"
          ]
        }
      ]
    },
    {
      "cell_type": "code",
      "source": [
        "#Reporting\n",
        "#Make the db in memory\n",
        "conn = sqlite3.connect(':memory:')\n",
        "#write the tables\n",
        "final_dataset.to_sql('final_dataset', conn, index=False)\n",
        "\n",
        "qry = '''\n",
        "    select Semester_id, Academic_year, Week_id, Course_name, \n",
        "    (round(attend,2) / total_attendance) * 100 as Attendance_pct from (\n",
        "    select  \n",
        "        Semester_id, Academic_year, Week_id, Course_name, \n",
        "        sum(case when Attend_dt is not null then 1 end ) as attend, count(Enrollment_id) as total_attendance\n",
        "    from final_dataset\n",
        "    group by\n",
        "        Semester_id, Academic_year, Week_id, Course_name ) A\n",
        "    '''\n",
        "\n",
        "reports = pd.read_sql_query(qry, conn)    \n",
        "print(reports.head(3))\n",
        "print('write to: ' + pathDatamart + 'report.csv')\n",
        "reports.to_csv (pathDatamart + 'report.csv', index=False)\n",
        "\n"
      ],
      "metadata": {
        "colab": {
          "base_uri": "https://localhost:8080/"
        },
        "id": "hSo28OzUJOjw",
        "outputId": "da838c3a-ae2b-488d-a301-5a39ae0a6226"
      },
      "execution_count": 106,
      "outputs": [
        {
          "output_type": "stream",
          "name": "stdout",
          "text": [
            "   Semester_id Academic_year  Week_id  \\\n",
            "0            1     2019/2020        1   \n",
            "1            1     2019/2020        1   \n",
            "2            1     2019/2020        1   \n",
            "\n",
            "                                Course_name  Attendance_pct  \n",
            "0                      Applied Data Science           100.0  \n",
            "1                               Data Mining           100.0  \n",
            "2  Introduction to Applied Machine Learning           100.0  \n",
            "write to: /content/result/datamart/report.csv\n"
          ]
        }
      ]
    }
  ]
}